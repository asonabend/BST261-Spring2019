{
 "cells": [
  {
   "cell_type": "code",
   "execution_count": 14,
   "metadata": {},
   "outputs": [
    {
     "data": {
      "text/plain": [
       "'2.2.2'"
      ]
     },
     "execution_count": 14,
     "metadata": {},
     "output_type": "execute_result"
    }
   ],
   "source": [
    "import sys\n",
    "if not sys.warnoptions:\n",
    "    import warnings\n",
    "    warnings.simplefilter(\"ignore\")\n",
    "import numpy as np\n",
    "import tensorflow as tf\n",
    "import keras\n",
    "import pandas as pd\n",
    "from keras import models\n",
    "from keras import layers\n",
    "from keras.datasets import mnist\n",
    "from keras.utils import to_categorical\n",
    "import matplotlib.pyplot as plt\n",
    "%matplotlib inline\n",
    "keras.__version__"
   ]
  },
  {
   "cell_type": "markdown",
   "metadata": {},
   "source": [
    "### MNIST Example"
   ]
  },
  {
   "cell_type": "code",
   "execution_count": 56,
   "metadata": {},
   "outputs": [
    {
     "data": {
      "image/png": "[encoded data removed]",
      "text/plain": [
       "<Figure size 432x288 with 1 Axes>"
      ]
     },
     "metadata": {},
     "output_type": "display_data"
    }
   ],
   "source": [
    "# Load data \n",
    "(train_data, train_labels), (test_data, test_labels) = mnist.load_data()\n",
    "\n",
    "# Let's take a look at one of the training examples\n",
    "digit = train_data[4] # Randomly chose index 4 \n",
    "plt.imshow(digit, cmap = plt.cm.binary)\n",
    "plt.show()"
   ]
  },
  {
   "cell_type": "code",
   "execution_count": 57,
   "metadata": {},
   "outputs": [
    {
     "data": {
      "text/plain": [
       "(60000, 28, 28)"
      ]
     },
     "execution_count": 57,
     "metadata": {},
     "output_type": "execute_result"
    }
   ],
   "source": [
    "# Let's look at how many training examples we have\n",
    "train_data.shape"
   ]
  },
  {
   "cell_type": "code",
   "execution_count": 58,
   "metadata": {},
   "outputs": [
    {
     "name": "stdout",
     "output_type": "stream",
     "text": [
      "Epoch 1/5\n",
      "60000/60000 [==============================] - 3s 42us/step - loss: 0.2584 - acc: 0.9255\n",
      "Epoch 2/5\n",
      "60000/60000 [==============================] - 2s 35us/step - loss: 0.1045 - acc: 0.9693\n",
      "Epoch 3/5\n",
      "60000/60000 [==============================] - 2s 34us/step - loss: 0.0679 - acc: 0.9795\n",
      "Epoch 4/5\n",
      "60000/60000 [==============================] - 2s 34us/step - loss: 0.0503 - acc: 0.9852\n",
      "Epoch 5/5\n",
      "60000/60000 [==============================] - 2s 36us/step - loss: 0.0372 - acc: 0.9882\n",
      "10000/10000 [==============================] - 0s 40us/step\n",
      "test accuracy: 0.981\n"
     ]
    }
   ],
   "source": [
    "network = models.Sequential()\n",
    "# Layer 1 (Hidden layer)\n",
    "network.add(layers.Dense(512, activation='relu', input_shape=(28 * 28, )))\n",
    "# Layer 2 (Output layer)\n",
    "network.add(layers.Dense(10, activation='softmax'))\n",
    "\n",
    "network.compile(optimizer='rmsprop',\n",
    "                loss='categorical_crossentropy',\n",
    "                metrics=['accuracy'])\n",
    "\n",
    "# Reshape data from matrix to vector and scale to between 0 and 1\n",
    "train_data = train_data.reshape((60000, 28 * 28))\n",
    "train_data = train_data.astype('float32') / 255\n",
    "\n",
    "test_data = test_data.reshape((10000, 28 * 28))\n",
    "test_data = test_data.astype('float32') / 255\n",
    "\n",
    "# Make labels into vectors of 0s and 1s\n",
    "train_labels = to_categorical(train_labels)\n",
    "test_labels = to_categorical(test_labels)\n",
    "\n",
    "network.fit(train_data, train_labels, epochs=5, batch_size=128)\n",
    "test_loss, test_acc = network.evaluate(test_data, test_labels)\n",
    "print('test accuracy:', test_acc)"
   ]
  },
  {
   "cell_type": "markdown",
   "metadata": {},
   "source": [
    "## IMDb Example"
   ]
  },
  {
   "cell_type": "code",
   "execution_count": 38,
   "metadata": {},
   "outputs": [],
   "source": [
    "from keras.datasets import imdb\n",
    "\n",
    "# Load data\n",
    "(train_data, train_labels), (test_data, test_labels) = imdb.load_data(num_words=10000)\n",
    "\n",
    "def vectorize_sequences(sequences, dimension=10000):\n",
    "    results = np.zeros((len(sequences), dimension))\n",
    "    for i, sequence in enumerate(sequences):\n",
    "        results[i, sequence] = 1.\n",
    "    return results\n",
    "\n",
    "x_train = vectorize_sequences(train_data)\n",
    "x_test = vectorize_sequences(test_data)\n",
    "\n",
    "y_train = np.asarray(train_labels).astype('float32')\n",
    "y_test = np.asarray(test_labels).astype('float32')\n",
    "\n",
    "model = models.Sequential()\n",
    "model.add(layers.Dense(16, activation='relu', input_shape=(10000,)))\n",
    "model.add(layers.Dense(16, activation='relu'))\n",
    "model.add(layers.Dense(1, activation='sigmoid'))\n",
    "\n",
    "model.compile(optimizer='rmsprop',\n",
    "              loss='binary_crossentropy',\n",
    "              metrics=['accuracy'])"
   ]
  },
  {
   "cell_type": "code",
   "execution_count": 39,
   "metadata": {},
   "outputs": [
    {
     "name": "stdout",
     "output_type": "stream",
     "text": [
      "Train on 15000 samples, validate on 10000 samples\n",
      "Epoch 1/20\n",
      "15000/15000 [==============================] - 2s 152us/step - loss: 0.5084 - acc: 0.7811 - val_loss: 0.3797 - val_acc: 0.8684\n",
      "Epoch 2/20\n",
      "15000/15000 [==============================] - 1s 91us/step - loss: 0.3005 - acc: 0.9047 - val_loss: 0.3004 - val_acc: 0.8896\n",
      "Epoch 3/20\n",
      "15000/15000 [==============================] - 1s 92us/step - loss: 0.2179 - acc: 0.9287 - val_loss: 0.3086 - val_acc: 0.8713\n",
      "Epoch 4/20\n",
      "15000/15000 [==============================] - 1s 93us/step - loss: 0.1750 - acc: 0.9438 - val_loss: 0.2841 - val_acc: 0.8830\n",
      "Epoch 5/20\n",
      "15000/15000 [==============================] - 1s 91us/step - loss: 0.1427 - acc: 0.9543 - val_loss: 0.2841 - val_acc: 0.8871\n",
      "Epoch 6/20\n",
      "15000/15000 [==============================] - 1s 90us/step - loss: 0.1150 - acc: 0.9651 - val_loss: 0.3168 - val_acc: 0.8773\n",
      "Epoch 7/20\n",
      "15000/15000 [==============================] - 1s 91us/step - loss: 0.0980 - acc: 0.9707 - val_loss: 0.3127 - val_acc: 0.8845\n",
      "Epoch 8/20\n",
      "15000/15000 [==============================] - 1s 91us/step - loss: 0.0807 - acc: 0.9763 - val_loss: 0.3859 - val_acc: 0.8649\n",
      "Epoch 9/20\n",
      "15000/15000 [==============================] - 1s 91us/step - loss: 0.0661 - acc: 0.9820 - val_loss: 0.3635 - val_acc: 0.8780\n",
      "Epoch 10/20\n",
      "15000/15000 [==============================] - 1s 90us/step - loss: 0.0561 - acc: 0.9853 - val_loss: 0.3842 - val_acc: 0.8794\n",
      "Epoch 11/20\n",
      "15000/15000 [==============================] - 1s 91us/step - loss: 0.0438 - acc: 0.9893 - val_loss: 0.4152 - val_acc: 0.8779\n",
      "Epoch 12/20\n",
      "15000/15000 [==============================] - 1s 94us/step - loss: 0.0381 - acc: 0.9920 - val_loss: 0.4529 - val_acc: 0.8688\n",
      "Epoch 13/20\n",
      "15000/15000 [==============================] - 1s 91us/step - loss: 0.0300 - acc: 0.9929 - val_loss: 0.4699 - val_acc: 0.8730\n",
      "Epoch 14/20\n",
      "15000/15000 [==============================] - 1s 91us/step - loss: 0.0247 - acc: 0.9945 - val_loss: 0.5024 - val_acc: 0.8726\n",
      "Epoch 15/20\n",
      "15000/15000 [==============================] - 1s 90us/step - loss: 0.0178 - acc: 0.9977 - val_loss: 0.5323 - val_acc: 0.8701\n",
      "Epoch 16/20\n",
      "15000/15000 [==============================] - 1s 91us/step - loss: 0.0180 - acc: 0.9965 - val_loss: 0.5665 - val_acc: 0.8693\n",
      "Epoch 17/20\n",
      "15000/15000 [==============================] - 1s 90us/step - loss: 0.0103 - acc: 0.9993 - val_loss: 0.6139 - val_acc: 0.8658\n",
      "Epoch 18/20\n",
      "15000/15000 [==============================] - 1s 91us/step - loss: 0.0130 - acc: 0.9971 - val_loss: 0.6375 - val_acc: 0.8675\n",
      "Epoch 19/20\n",
      "15000/15000 [==============================] - 1s 90us/step - loss: 0.0058 - acc: 0.9997 - val_loss: 0.7273 - val_acc: 0.8563\n",
      "Epoch 20/20\n",
      "15000/15000 [==============================] - 1s 91us/step - loss: 0.0066 - acc: 0.9991 - val_loss: 0.6997 - val_acc: 0.8657\n"
     ]
    }
   ],
   "source": [
    "x_val = x_train[:10000]\n",
    "partial_x_train = x_train[10000:]\n",
    "\n",
    "y_val = y_train[:10000]\n",
    "partial_y_train = y_train[10000:]\n",
    "\n",
    "history = model.fit(partial_x_train,\n",
    "                    partial_y_train,\n",
    "                    epochs=20,\n",
    "                    batch_size=512,\n",
    "                    validation_data=(x_val, y_val))"
   ]
  },
  {
   "cell_type": "code",
   "execution_count": 40,
   "metadata": {},
   "outputs": [],
   "source": [
    "train_acc = history.history['acc']\n",
    "val_acc = history.history['val_acc']\n",
    "train_loss = history.history['loss']\n",
    "val_loss = history.history['val_loss']\n",
    "\n",
    "epochs = list(range(1, len(train_acc) +1))\n"
   ]
  },
  {
   "cell_type": "code",
   "execution_count": 41,
   "metadata": {},
   "outputs": [
    {
     "data": {
      "text/plain": [
       "<matplotlib.legend.Legend at 0xc3ba14128>"
      ]
     },
     "execution_count": 41,
     "metadata": {},
     "output_type": "execute_result"
    },
    {
     "data": {
      "image/png": "[encoded data removed]",
      "text/plain": [
       "<Figure size 432x288 with 1 Axes>"
      ]
     },
     "metadata": {},
     "output_type": "display_data"
    }
   ],
   "source": [
    "plt.plot(epochs, train_loss, 'bo', label = 'Training Loss')\n",
    "plt.plot(epochs, val_loss, 'b', label = 'Validation Loss')\n",
    "plt.title('Training and validation loss')\n",
    "plt.xlabel('Epochs')\n",
    "plt.ylabel('Loss')\n",
    "plt.legend()"
   ]
  },
  {
   "cell_type": "code",
   "execution_count": 42,
   "metadata": {},
   "outputs": [
    {
     "data": {
      "text/plain": [
       "<matplotlib.legend.Legend at 0xc3b5b03c8>"
      ]
     },
     "execution_count": 42,
     "metadata": {},
     "output_type": "execute_result"
    },
    {
     "data": {
      "image/png": "[encoded data removed]",
      "text/plain": [
       "<Figure size 432x288 with 1 Axes>"
      ]
     },
     "metadata": {},
     "output_type": "display_data"
    }
   ],
   "source": [
    "plt.plot(epochs, train_acc, 'bo', label = 'Training Accuracy')\n",
    "plt.plot(epochs, val_acc, 'b', label = 'Validation Accuracy')\n",
    "plt.title('Training and validation accuracy')\n",
    "plt.xlabel('Epochs')\n",
    "plt.ylabel('Accuracy')\n",
    "plt.legend()\n"
   ]
  },
  {
   "cell_type": "code",
   "execution_count": 43,
   "metadata": {},
   "outputs": [
    {
     "name": "stdout",
     "output_type": "stream",
     "text": [
      "Epoch 1/4\n",
      "25000/25000 [==============================] - 2s 76us/step - loss: 0.4749 - acc: 0.8217\n",
      "Epoch 2/4\n",
      "25000/25000 [==============================] - 2s 62us/step - loss: 0.2658 - acc: 0.9097\n",
      "Epoch 3/4\n",
      "25000/25000 [==============================] - 2s 62us/step - loss: 0.1982 - acc: 0.9300\n",
      "Epoch 4/4\n",
      "25000/25000 [==============================] - 2s 62us/step - loss: 0.1679 - acc: 0.9402\n",
      "25000/25000 [==============================] - 2s 65us/step\n",
      "[0.32330194712638854, 0.87344]\n"
     ]
    }
   ],
   "source": [
    "# Create another network from scratch and test performance\n",
    "model = models.Sequential()\n",
    "model.add(layers.Dense(16, activation='relu', input_shape=(10000,)))\n",
    "model.add(layers.Dense(16, activation='relu'))\n",
    "model.add(layers.Dense(1, activation='sigmoid'))\n",
    "\n",
    "model.compile(optimizer='rmsprop',\n",
    "              loss='binary_crossentropy',\n",
    "              metrics=['accuracy'])\n",
    "\n",
    "model.fit(x_train, y_train, epochs=4, batch_size=512)\n",
    "results = model.evaluate(x_test, y_test)\n",
    "print(results)"
   ]
  },
  {
   "cell_type": "markdown",
   "metadata": {},
   "source": [
    "### Regularization\n",
    "#### Reducing the network's size"
   ]
  },
  {
   "cell_type": "code",
   "execution_count": 44,
   "metadata": {},
   "outputs": [],
   "source": [
    "# Simpler, lower capaciy model\n",
    "model2 = models.Sequential()\n",
    "model2.add(layers.Dense(4, activation='relu', input_shape=(10000,)))\n",
    "model2.add(layers.Dense(4, activation='relu'))\n",
    "model2.add(layers.Dense(1, activation='sigmoid'))\n",
    "\n",
    "model2.compile(optimizer='rmsprop',\n",
    "              loss='binary_crossentropy',\n",
    "              metrics=['accuracy'])"
   ]
  },
  {
   "cell_type": "code",
   "execution_count": 45,
   "metadata": {},
   "outputs": [
    {
     "name": "stdout",
     "output_type": "stream",
     "text": [
      "Train on 15000 samples, validate on 10000 samples\n",
      "Epoch 1/20\n",
      "15000/15000 [==============================] - 2s 127us/step - loss: 0.6021 - acc: 0.7633 - val_loss: 0.5232 - val_acc: 0.8408\n",
      "Epoch 2/20\n",
      "15000/15000 [==============================] - 1s 93us/step - loss: 0.4581 - acc: 0.8721 - val_loss: 0.4294 - val_acc: 0.8581\n",
      "Epoch 3/20\n",
      "15000/15000 [==============================] - 1s 90us/step - loss: 0.3669 - acc: 0.8943 - val_loss: 0.3703 - val_acc: 0.8730\n",
      "Epoch 4/20\n",
      "15000/15000 [==============================] - 1s 94us/step - loss: 0.3027 - acc: 0.9107 - val_loss: 0.3269 - val_acc: 0.8833\n",
      "Epoch 5/20\n",
      "15000/15000 [==============================] - 1s 89us/step - loss: 0.2569 - acc: 0.9228 - val_loss: 0.3010 - val_acc: 0.8881\n",
      "Epoch 6/20\n",
      "15000/15000 [==============================] - 1s 91us/step - loss: 0.2214 - acc: 0.9315 - val_loss: 0.2843 - val_acc: 0.8921\n",
      "Epoch 7/20\n",
      "15000/15000 [==============================] - 1s 92us/step - loss: 0.1942 - acc: 0.9401 - val_loss: 0.2770 - val_acc: 0.8913\n",
      "Epoch 8/20\n",
      "15000/15000 [==============================] - 1s 89us/step - loss: 0.1722 - acc: 0.9483 - val_loss: 0.2748 - val_acc: 0.8910\n",
      "Epoch 9/20\n",
      "15000/15000 [==============================] - 1s 90us/step - loss: 0.1540 - acc: 0.9529 - val_loss: 0.2744 - val_acc: 0.8892\n",
      "Epoch 10/20\n",
      "15000/15000 [==============================] - 1s 89us/step - loss: 0.1381 - acc: 0.9577 - val_loss: 0.2809 - val_acc: 0.8886\n",
      "Epoch 11/20\n",
      "15000/15000 [==============================] - 1s 89us/step - loss: 0.1246 - acc: 0.9624 - val_loss: 0.2791 - val_acc: 0.8895\n",
      "Epoch 12/20\n",
      "15000/15000 [==============================] - 1s 88us/step - loss: 0.1127 - acc: 0.9679 - val_loss: 0.2872 - val_acc: 0.8879\n",
      "Epoch 13/20\n",
      "15000/15000 [==============================] - 1s 89us/step - loss: 0.1018 - acc: 0.9710 - val_loss: 0.2927 - val_acc: 0.8870\n",
      "Epoch 14/20\n",
      "15000/15000 [==============================] - 1s 89us/step - loss: 0.0920 - acc: 0.9751 - val_loss: 0.3020 - val_acc: 0.8849\n",
      "Epoch 15/20\n",
      "15000/15000 [==============================] - 1s 94us/step - loss: 0.0829 - acc: 0.9781 - val_loss: 0.3127 - val_acc: 0.8833\n",
      "Epoch 16/20\n",
      "15000/15000 [==============================] - 2s 103us/step - loss: 0.0748 - acc: 0.9816 - val_loss: 0.3276 - val_acc: 0.8810\n",
      "Epoch 17/20\n",
      "15000/15000 [==============================] - 1s 92us/step - loss: 0.0676 - acc: 0.9833 - val_loss: 0.3367 - val_acc: 0.8821\n",
      "Epoch 18/20\n",
      "15000/15000 [==============================] - 1s 90us/step - loss: 0.0602 - acc: 0.9861 - val_loss: 0.3517 - val_acc: 0.8815\n",
      "Epoch 19/20\n",
      "15000/15000 [==============================] - 1s 88us/step - loss: 0.0541 - acc: 0.9885 - val_loss: 0.3655 - val_acc: 0.8809\n",
      "Epoch 20/20\n",
      "15000/15000 [==============================] - 1s 98us/step - loss: 0.0484 - acc: 0.9895 - val_loss: 0.3816 - val_acc: 0.8804\n"
     ]
    }
   ],
   "source": [
    "history2 = model2.fit(partial_x_train,\n",
    "                    partial_y_train,\n",
    "                    epochs=20,\n",
    "                    batch_size=512,\n",
    "                    validation_data=(x_val, y_val))"
   ]
  },
  {
   "cell_type": "code",
   "execution_count": 46,
   "metadata": {},
   "outputs": [],
   "source": [
    "train_acc2 = history2.history['acc']\n",
    "val_acc2 = history2.history['val_acc']\n",
    "train_loss2 = history2.history['loss']\n",
    "val_loss2 = history2.history['val_loss']"
   ]
  },
  {
   "cell_type": "code",
   "execution_count": 47,
   "metadata": {},
   "outputs": [
    {
     "data": {
      "text/plain": [
       "<matplotlib.legend.Legend at 0xb2ebcc240>"
      ]
     },
     "execution_count": 47,
     "metadata": {},
     "output_type": "execute_result"
    },
    {
     "data": {
      "image/png": "[encoded data removed]",
      "text/plain": [
       "<Figure size 432x288 with 1 Axes>"
      ]
     },
     "metadata": {},
     "output_type": "display_data"
    }
   ],
   "source": [
    "plt.plot(epochs, val_loss, 'bo', label = 'Original Model')\n",
    "plt.plot(epochs, val_loss2, 'b+', label = 'Simpler Model')\n",
    "plt.title('')\n",
    "plt.xlabel('Epochs')\n",
    "plt.ylabel('Loss')\n",
    "plt.legend()"
   ]
  },
  {
   "cell_type": "code",
   "execution_count": 49,
   "metadata": {},
   "outputs": [],
   "source": [
    "# More complex, higher capaciy model\n",
    "model3 = models.Sequential()\n",
    "model3.add(layers.Dense(512, activation='relu', input_shape=(10000,)))\n",
    "model3.add(layers.Dense(512, activation='relu'))\n",
    "model3.add(layers.Dense(1, activation='sigmoid'))\n",
    "\n",
    "model3.compile(optimizer='rmsprop',\n",
    "              loss='binary_crossentropy',\n",
    "              metrics=['accuracy'])"
   ]
  },
  {
   "cell_type": "code",
   "execution_count": 50,
   "metadata": {},
   "outputs": [
    {
     "name": "stdout",
     "output_type": "stream",
     "text": [
      "Train on 15000 samples, validate on 10000 samples\n",
      "Epoch 1/20\n",
      "15000/15000 [==============================] - 5s 356us/step - loss: 0.5312 - acc: 0.7630 - val_loss: 0.3179 - val_acc: 0.8750\n",
      "Epoch 2/20\n",
      "15000/15000 [==============================] - 5s 314us/step - loss: 0.2564 - acc: 0.8966 - val_loss: 0.2712 - val_acc: 0.8871\n",
      "Epoch 3/20\n",
      "15000/15000 [==============================] - 5s 320us/step - loss: 0.1407 - acc: 0.9485 - val_loss: 0.3002 - val_acc: 0.8908\n",
      "Epoch 4/20\n",
      "15000/15000 [==============================] - 5s 319us/step - loss: 0.0807 - acc: 0.9731 - val_loss: 0.6891 - val_acc: 0.8130\n",
      "Epoch 5/20\n",
      "15000/15000 [==============================] - 5s 315us/step - loss: 0.0303 - acc: 0.9893 - val_loss: 0.4645 - val_acc: 0.8834\n",
      "Epoch 6/20\n",
      "15000/15000 [==============================] - 5s 317us/step - loss: 0.1169 - acc: 0.9792 - val_loss: 0.3701 - val_acc: 0.8871\n",
      "Epoch 7/20\n",
      "15000/15000 [==============================] - 5s 325us/step - loss: 0.0030 - acc: 1.0000 - val_loss: 0.5000 - val_acc: 0.8884\n",
      "Epoch 8/20\n",
      "15000/15000 [==============================] - 5s 317us/step - loss: 4.1977e-04 - acc: 1.0000 - val_loss: 0.5969 - val_acc: 0.8871\n",
      "Epoch 9/20\n",
      "15000/15000 [==============================] - 5s 326us/step - loss: 9.1457e-05 - acc: 1.0000 - val_loss: 0.6729 - val_acc: 0.8873\n",
      "Epoch 10/20\n",
      "15000/15000 [==============================] - 5s 331us/step - loss: 2.0633e-05 - acc: 1.0000 - val_loss: 0.7345 - val_acc: 0.8869\n",
      "Epoch 11/20\n",
      "15000/15000 [==============================] - 5s 335us/step - loss: 4.5533e-06 - acc: 1.0000 - val_loss: 0.8026 - val_acc: 0.8871\n",
      "Epoch 12/20\n",
      "15000/15000 [==============================] - 5s 334us/step - loss: 1.2548e-06 - acc: 1.0000 - val_loss: 0.8535 - val_acc: 0.8858\n",
      "Epoch 13/20\n",
      "15000/15000 [==============================] - 5s 332us/step - loss: 4.5813e-07 - acc: 1.0000 - val_loss: 0.8998 - val_acc: 0.8866\n",
      "Epoch 14/20\n",
      "15000/15000 [==============================] - 5s 329us/step - loss: 2.2220e-07 - acc: 1.0000 - val_loss: 0.9296 - val_acc: 0.8871\n",
      "Epoch 15/20\n",
      "15000/15000 [==============================] - 5s 322us/step - loss: 1.4876e-07 - acc: 1.0000 - val_loss: 0.9546 - val_acc: 0.8874\n",
      "Epoch 16/20\n",
      "15000/15000 [==============================] - 5s 335us/step - loss: 1.2676e-07 - acc: 1.0000 - val_loss: 0.9688 - val_acc: 0.8879\n",
      "Epoch 17/20\n",
      "15000/15000 [==============================] - 5s 337us/step - loss: 1.1912e-07 - acc: 1.0000 - val_loss: 0.9776 - val_acc: 0.8877\n",
      "Epoch 18/20\n",
      "15000/15000 [==============================] - 5s 327us/step - loss: 1.1567e-07 - acc: 1.0000 - val_loss: 0.9854 - val_acc: 0.8874\n",
      "Epoch 19/20\n",
      "15000/15000 [==============================] - 5s 330us/step - loss: 1.1383e-07 - acc: 1.0000 - val_loss: 0.9906 - val_acc: 0.8876\n",
      "Epoch 20/20\n",
      "15000/15000 [==============================] - 5s 330us/step - loss: 1.1278e-07 - acc: 1.0000 - val_loss: 0.9943 - val_acc: 0.8875\n"
     ]
    }
   ],
   "source": [
    "history3 = model3.fit(partial_x_train,\n",
    "                    partial_y_train,\n",
    "                    epochs=20,\n",
    "                    batch_size=512,\n",
    "                    validation_data=(x_val, y_val))"
   ]
  },
  {
   "cell_type": "code",
   "execution_count": 51,
   "metadata": {},
   "outputs": [],
   "source": [
    "train_acc3 = history3.history['acc']\n",
    "val_acc3 = history3.history['val_acc']\n",
    "train_loss3 = history3.history['loss']\n",
    "val_loss3 = history3.history['val_loss']"
   ]
  },
  {
   "cell_type": "code",
   "execution_count": 52,
   "metadata": {},
   "outputs": [
    {
     "data": {
      "text/plain": [
       "<matplotlib.legend.Legend at 0xb2ef71b38>"
      ]
     },
     "execution_count": 52,
     "metadata": {},
     "output_type": "execute_result"
    },
    {
     "data": {
      "image/png": "[encoded data removed]",
      "text/plain": [
       "<Figure size 432x288 with 1 Axes>"
      ]
     },
     "metadata": {},
     "output_type": "display_data"
    }
   ],
   "source": [
    "plt.plot(epochs, val_loss, 'bo', label = 'Original Model')\n",
    "plt.plot(epochs, val_loss3, 'b+', label = 'More Complex Model')\n",
    "plt.title('')\n",
    "plt.xlabel('Epochs')\n",
    "plt.ylabel('Loss')\n",
    "plt.legend()"
   ]
  },
  {
   "cell_type": "markdown",
   "metadata": {},
   "source": [
    "#### Adding weight regularization"
   ]
  },
  {
   "cell_type": "code",
   "execution_count": 59,
   "metadata": {},
   "outputs": [],
   "source": [
    "from keras import regularizers\n",
    "\n",
    "l2_model = models.Sequential()\n",
    "l2_model.add(layers.Dense(16, kernel_regularizer=regularizers.l2(0.001),\n",
    "                          activation='relu', input_shape=(10000,)))\n",
    "l2_model.add(layers.Dense(16, kernel_regularizer=regularizers.l2(0.001),\n",
    "                          activation='relu'))\n",
    "l2_model.add(layers.Dense(1, activation='sigmoid'))"
   ]
  },
  {
   "cell_type": "code",
   "execution_count": 60,
   "metadata": {},
   "outputs": [],
   "source": [
    "l2_model.compile(optimizer='rmsprop',\n",
    "                 loss='binary_crossentropy',\n",
    "                 metrics=['acc'])"
   ]
  },
  {
   "cell_type": "code",
   "execution_count": 61,
   "metadata": {},
   "outputs": [
    {
     "name": "stdout",
     "output_type": "stream",
     "text": [
      "Train on 25000 samples, validate on 25000 samples\n",
      "Epoch 1/20\n",
      "25000/25000 [==============================] - 4s 164us/step - loss: 0.5015 - acc: 0.8195 - val_loss: 0.3926 - val_acc: 0.8752\n",
      "Epoch 2/20\n",
      "25000/25000 [==============================] - 3s 137us/step - loss: 0.3249 - acc: 0.9024 - val_loss: 0.3405 - val_acc: 0.8872\n",
      "Epoch 3/20\n",
      "25000/25000 [==============================] - 3s 112us/step - loss: 0.2759 - acc: 0.9202 - val_loss: 0.3297 - val_acc: 0.8883\n",
      "Epoch 4/20\n",
      "25000/25000 [==============================] - 3s 130us/step - loss: 0.2581 - acc: 0.9262 - val_loss: 0.3572 - val_acc: 0.8778\n",
      "Epoch 5/20\n",
      "25000/25000 [==============================] - 3s 115us/step - loss: 0.2438 - acc: 0.9323 - val_loss: 0.3427 - val_acc: 0.8815\n",
      "Epoch 6/20\n",
      "25000/25000 [==============================] - 3s 113us/step - loss: 0.2330 - acc: 0.9348 - val_loss: 0.3500 - val_acc: 0.8799\n",
      "Epoch 7/20\n",
      "25000/25000 [==============================] - 3s 115us/step - loss: 0.2269 - acc: 0.9384 - val_loss: 0.3608 - val_acc: 0.8779\n",
      "Epoch 8/20\n",
      "25000/25000 [==============================] - 3s 115us/step - loss: 0.2240 - acc: 0.9387 - val_loss: 0.3596 - val_acc: 0.8779\n",
      "Epoch 9/20\n",
      "25000/25000 [==============================] - 3s 117us/step - loss: 0.2175 - acc: 0.9407 - val_loss: 0.3989 - val_acc: 0.8675\n",
      "Epoch 10/20\n",
      "25000/25000 [==============================] - 3s 128us/step - loss: 0.2147 - acc: 0.9420 - val_loss: 0.3905 - val_acc: 0.8703\n",
      "Epoch 11/20\n",
      "25000/25000 [==============================] - 3s 119us/step - loss: 0.2168 - acc: 0.9412 - val_loss: 0.3746 - val_acc: 0.8769\n",
      "Epoch 12/20\n",
      "25000/25000 [==============================] - 3s 109us/step - loss: 0.2069 - acc: 0.9448 - val_loss: 0.4086 - val_acc: 0.8665\n",
      "Epoch 13/20\n",
      "25000/25000 [==============================] - 3s 123us/step - loss: 0.2089 - acc: 0.9440 - val_loss: 0.3994 - val_acc: 0.8707\n",
      "Epoch 14/20\n",
      "25000/25000 [==============================] - 3s 111us/step - loss: 0.2058 - acc: 0.9455 - val_loss: 0.3987 - val_acc: 0.8697\n",
      "Epoch 15/20\n",
      "25000/25000 [==============================] - 3s 110us/step - loss: 0.2051 - acc: 0.9443 - val_loss: 0.4045 - val_acc: 0.8684\n",
      "Epoch 16/20\n",
      "25000/25000 [==============================] - 3s 111us/step - loss: 0.2001 - acc: 0.9476 - val_loss: 0.3957 - val_acc: 0.8719\n",
      "Epoch 17/20\n",
      "25000/25000 [==============================] - 3s 113us/step - loss: 0.1997 - acc: 0.9454 - val_loss: 0.4349 - val_acc: 0.8616\n",
      "Epoch 18/20\n",
      "25000/25000 [==============================] - 3s 129us/step - loss: 0.1969 - acc: 0.9482 - val_loss: 0.4140 - val_acc: 0.8700\n",
      "Epoch 19/20\n",
      "25000/25000 [==============================] - 3s 119us/step - loss: 0.1969 - acc: 0.9470 - val_loss: 0.4078 - val_acc: 0.8712\n",
      "Epoch 20/20\n",
      "25000/25000 [==============================] - 3s 114us/step - loss: 0.1954 - acc: 0.9495 - val_loss: 0.4111 - val_acc: 0.8686\n"
     ]
    }
   ],
   "source": [
    "l2_model_hist = l2_model.fit(x_train, y_train,\n",
    "                             epochs=20,\n",
    "                             batch_size=512,\n",
    "                             validation_data=(x_test, y_test))"
   ]
  },
  {
   "cell_type": "code",
   "execution_count": 64,
   "metadata": {},
   "outputs": [
    {
     "data": {
      "text/plain": [
       "<matplotlib.legend.Legend at 0xc3c607588>"
      ]
     },
     "execution_count": 64,
     "metadata": {},
     "output_type": "execute_result"
    },
    {
     "data": {
      "image/png": "[encoded data removed]",
      "text/plain": [
       "<Figure size 432x288 with 1 Axes>"
      ]
     },
     "metadata": {},
     "output_type": "display_data"
    }
   ],
   "source": [
    "l2_model_val_loss = l2_model_hist.history['val_loss']\n",
    "\n",
    "plt.plot(epochs, val_loss, 'bo', label='Original model')\n",
    "plt.plot(epochs, l2_model_val_loss, 'b+', label='L2-regularized model')\n",
    "plt.xlabel('Epochs')\n",
    "plt.ylabel('Validation loss')\n",
    "plt.legend()"
   ]
  },
  {
   "cell_type": "markdown",
   "metadata": {},
   "source": [
    "#### Adding Dropout"
   ]
  },
  {
   "cell_type": "code",
   "execution_count": 66,
   "metadata": {},
   "outputs": [],
   "source": [
    "dpt_model = models.Sequential()\n",
    "dpt_model.add(layers.Dense(16, activation='relu', input_shape=(10000,)))\n",
    "dpt_model.add(layers.Dropout(0.5))\n",
    "dpt_model.add(layers.Dense(16, activation='relu'))\n",
    "dpt_model.add(layers.Dropout(0.5))\n",
    "dpt_model.add(layers.Dense(1, activation='sigmoid'))\n",
    "\n",
    "dpt_model.compile(optimizer='rmsprop',\n",
    "                  loss='binary_crossentropy',\n",
    "                  metrics=['acc'])"
   ]
  },
  {
   "cell_type": "code",
   "execution_count": 67,
   "metadata": {},
   "outputs": [
    {
     "name": "stdout",
     "output_type": "stream",
     "text": [
      "Train on 25000 samples, validate on 25000 samples\n",
      "Epoch 1/20\n",
      "25000/25000 [==============================] - 4s 149us/step - loss: 0.6162 - acc: 0.6584 - val_loss: 0.5248 - val_acc: 0.8576\n",
      "Epoch 2/20\n",
      "25000/25000 [==============================] - 3s 136us/step - loss: 0.5014 - acc: 0.7881 - val_loss: 0.4222 - val_acc: 0.8777\n",
      "Epoch 3/20\n",
      "25000/25000 [==============================] - 3s 130us/step - loss: 0.4249 - acc: 0.8498 - val_loss: 0.3702 - val_acc: 0.8821\n",
      "Epoch 4/20\n",
      "25000/25000 [==============================] - 3s 123us/step - loss: 0.3680 - acc: 0.8782 - val_loss: 0.3193 - val_acc: 0.8825\n",
      "Epoch 5/20\n",
      "25000/25000 [==============================] - 3s 115us/step - loss: 0.3208 - acc: 0.8979 - val_loss: 0.3119 - val_acc: 0.8700\n",
      "Epoch 6/20\n",
      "25000/25000 [==============================] - 3s 113us/step - loss: 0.2818 - acc: 0.9129 - val_loss: 0.2987 - val_acc: 0.8800\n",
      "Epoch 7/20\n",
      "25000/25000 [==============================] - 3s 115us/step - loss: 0.2467 - acc: 0.9215 - val_loss: 0.3075 - val_acc: 0.8836\n",
      "Epoch 8/20\n",
      "25000/25000 [==============================] - 3s 113us/step - loss: 0.2231 - acc: 0.9294 - val_loss: 0.3219 - val_acc: 0.8732\n",
      "Epoch 9/20\n",
      "25000/25000 [==============================] - 3s 113us/step - loss: 0.2027 - acc: 0.9379 - val_loss: 0.3292 - val_acc: 0.8787\n",
      "Epoch 10/20\n",
      "25000/25000 [==============================] - 3s 112us/step - loss: 0.1844 - acc: 0.9426 - val_loss: 0.3664 - val_acc: 0.8805\n",
      "Epoch 11/20\n",
      "25000/25000 [==============================] - 3s 112us/step - loss: 0.1695 - acc: 0.9484 - val_loss: 0.3742 - val_acc: 0.8761\n",
      "Epoch 12/20\n",
      "25000/25000 [==============================] - 3s 113us/step - loss: 0.1619 - acc: 0.9492 - val_loss: 0.3846 - val_acc: 0.8781\n",
      "Epoch 13/20\n",
      "25000/25000 [==============================] - 3s 112us/step - loss: 0.1474 - acc: 0.9545 - val_loss: 0.4124 - val_acc: 0.8773\n",
      "Epoch 14/20\n",
      "25000/25000 [==============================] - 3s 112us/step - loss: 0.1411 - acc: 0.9562 - val_loss: 0.4647 - val_acc: 0.8764\n",
      "Epoch 15/20\n",
      "25000/25000 [==============================] - 3s 112us/step - loss: 0.1360 - acc: 0.9589 - val_loss: 0.4757 - val_acc: 0.8771\n",
      "Epoch 16/20\n",
      "25000/25000 [==============================] - 3s 124us/step - loss: 0.1284 - acc: 0.9603 - val_loss: 0.4576 - val_acc: 0.8732\n",
      "Epoch 17/20\n",
      "25000/25000 [==============================] - 3s 117us/step - loss: 0.1195 - acc: 0.9627 - val_loss: 0.4964 - val_acc: 0.8740\n",
      "Epoch 18/20\n",
      "25000/25000 [==============================] - 3s 113us/step - loss: 0.1216 - acc: 0.9626 - val_loss: 0.5229 - val_acc: 0.8756\n",
      "Epoch 19/20\n",
      "25000/25000 [==============================] - 3s 112us/step - loss: 0.1139 - acc: 0.9636 - val_loss: 0.5715 - val_acc: 0.8769\n",
      "Epoch 20/20\n",
      "25000/25000 [==============================] - 3s 113us/step - loss: 0.1182 - acc: 0.9652 - val_loss: 0.5533 - val_acc: 0.8742\n"
     ]
    }
   ],
   "source": [
    "dpt_model_hist = dpt_model.fit(x_train, y_train,\n",
    "                               epochs=20,\n",
    "                               batch_size=512,\n",
    "                               validation_data=(x_test, y_test))"
   ]
  },
  {
   "cell_type": "code",
   "execution_count": 68,
   "metadata": {},
   "outputs": [
    {
     "data": {
      "text/plain": [
       "<matplotlib.legend.Legend at 0xc3af9acc0>"
      ]
     },
     "execution_count": 68,
     "metadata": {},
     "output_type": "execute_result"
    },
    {
     "data": {
      "image/png": "[encoded data removed]",
      "text/plain": [
       "<Figure size 432x288 with 1 Axes>"
      ]
     },
     "metadata": {},
     "output_type": "display_data"
    }
   ],
   "source": [
    "dpt_model_val_loss = dpt_model_hist.history['val_loss']\n",
    "\n",
    "plt.plot(epochs, val_loss, 'bo', label='Original model')\n",
    "plt.plot(epochs, dpt_model_val_loss, 'b+', label='Dropout-regularized model')\n",
    "plt.xlabel('Epochs')\n",
    "plt.ylabel('Validation loss')\n",
    "plt.legend()"
   ]
  },
  {
   "cell_type": "code",
   "execution_count": null,
   "metadata": {},
   "outputs": [],
   "source": []
  },
  {
   "cell_type": "code",
   "execution_count": null,
   "metadata": {},
   "outputs": [],
   "source": []
  },
  {
   "cell_type": "code",
   "execution_count": null,
   "metadata": {},
   "outputs": [],
   "source": []
  },
  {
   "cell_type": "code",
   "execution_count": null,
   "metadata": {},
   "outputs": [],
   "source": []
  },
  {
   "cell_type": "code",
   "execution_count": null,
   "metadata": {},
   "outputs": [],
   "source": []
  },
  {
   "cell_type": "code",
   "execution_count": null,
   "metadata": {},
   "outputs": [],
   "source": []
  }
 ],
 "metadata": {
  "kernelspec": {
   "display_name": "Python 3",
   "language": "python",
   "name": "python3"
  },
  "language_info": {
   "codemirror_mode": {
    "name": "ipython",
    "version": 3
   },
   "file_extension": ".py",
   "mimetype": "text/x-python",
   "name": "python",
   "nbconvert_exporter": "python",
   "pygments_lexer": "ipython3",
   "version": "3.6.5"
  }
 },
 "nbformat": 4,
 "nbformat_minor": 2
}
